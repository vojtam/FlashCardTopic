{
 "cells": [
  {
   "cell_type": "markdown",
   "metadata": {},
   "source": [
    "# Clustering rozhodovacek\n",
    "\n",
    "## 1) Imports\n"
   ]
  },
  {
   "cell_type": "code",
   "execution_count": 19,
   "metadata": {},
   "outputs": [],
   "source": [
    "import json\n",
    "from pathlib import Path\n",
    "import polars as pl\n",
    "import re"
   ]
  },
  {
   "cell_type": "markdown",
   "metadata": {},
   "source": [
    "## 2) Load the dataframe\n"
   ]
  },
  {
   "cell_type": "code",
   "execution_count": null,
   "metadata": {},
   "outputs": [
    {
     "data": {
      "text/html": [
       "<div><style>\n",
       ".dataframe > thead > tr,\n",
       ".dataframe > tbody > tr {\n",
       "  text-align: right;\n",
       "  white-space: pre-wrap;\n",
       "}\n",
       "</style>\n",
       "<small>shape: (5, 19)</small><table border=\"1\" class=\"dataframe\"><thead><tr><th>id</th><th>rs</th><th>difficultyRank</th><th>cluster</th><th>question</th><th>correct</th><th>distractor1</th><th>translation</th><th>explanation</th><th>grade</th><th>successRate</th><th>responseTime</th><th>recalculated</th><th>answers</th><th>created</th><th>lastUpdate</th><th>masterUpdated</th><th>checkTranslate</th><th>visible</th></tr><tr><td>i64</td><td>i64</td><td>i64</td><td>i64</td><td>str</td><td>str</td><td>str</td><td>str</td><td>str</td><td>i64</td><td>f64</td><td>f64</td><td>str</td><td>i64</td><td>str</td><td>str</td><td>str</td><td>i64</td><td>i64</td></tr></thead><tbody><tr><td>1</td><td>64</td><td>1</td><td>2</td><td>&quot;[[&quot;text&quot;,&quot;Co vypíše program?&quot;]…</td><td>&quot;[[&quot;code64&quot;,&quot;MTg=&quot;,{&quot;language&quot;:…</td><td>&quot;[[&quot;code64&quot;,&quot;NQ==&quot;,{&quot;language&quot;:…</td><td>null</td><td>null</td><td>0</td><td>89.071</td><td>5910.0</td><td>&quot;2024-07-26 03:19:37&quot;</td><td>3047</td><td>&quot;2017-11-22 17:56:31&quot;</td><td>&quot;2017-11-22 17:56:31&quot;</td><td>&quot;0000-00-00 00:00:00&quot;</td><td>0</td><td>1</td></tr><tr><td>2</td><td>64</td><td>1</td><td>2</td><td>&quot;[[&quot;text&quot;,&quot;Co vypíše program?&quot;]…</td><td>&quot;[[&quot;code64&quot;,&quot;Nw==&quot;,{&quot;language&quot;:…</td><td>&quot;[[&quot;code64&quot;,&quot;eA==&quot;,{&quot;language&quot;:…</td><td>null</td><td>null</td><td>0</td><td>86.251</td><td>4744.0</td><td>&quot;2024-07-26 03:19:37&quot;</td><td>3033</td><td>&quot;2017-11-22 17:56:31&quot;</td><td>&quot;2017-11-22 17:56:31&quot;</td><td>&quot;0000-00-00 00:00:00&quot;</td><td>0</td><td>1</td></tr><tr><td>3</td><td>64</td><td>1</td><td>2</td><td>&quot;[[&quot;text&quot;,&quot;Co vypíše program?&quot;]…</td><td>&quot;[[&quot;code64&quot;,&quot;MyAy&quot;,{&quot;language&quot;:…</td><td>&quot;[[&quot;code64&quot;,&quot;MiAz&quot;,{&quot;language&quot;:…</td><td>null</td><td>null</td><td>0</td><td>88.404</td><td>5483.0</td><td>&quot;2024-07-26 03:19:37&quot;</td><td>3027</td><td>&quot;2017-11-22 17:56:31&quot;</td><td>&quot;2017-11-22 17:56:31&quot;</td><td>&quot;0000-00-00 00:00:00&quot;</td><td>0</td><td>1</td></tr><tr><td>4</td><td>64</td><td>1</td><td>2</td><td>&quot;[[&quot;text&quot;,&quot;Co vypíše program?&quot;]…</td><td>&quot;[[&quot;code64&quot;,&quot;NQ==&quot;,{&quot;language&quot;:…</td><td>&quot;[[&quot;code64&quot;,&quot;Mw==&quot;,{&quot;language&quot;:…</td><td>null</td><td>null</td><td>0</td><td>84.608</td><td>6761.5</td><td>&quot;2024-07-26 03:19:37&quot;</td><td>3086</td><td>&quot;2017-11-22 17:56:31&quot;</td><td>&quot;2017-11-22 17:56:31&quot;</td><td>&quot;0000-00-00 00:00:00&quot;</td><td>0</td><td>1</td></tr><tr><td>5</td><td>64</td><td>2</td><td>2</td><td>&quot;[[&quot;text&quot;,&quot;Co vypíše program?&quot;]…</td><td>&quot;[[&quot;code64&quot;,&quot;Nw==&quot;,{&quot;language&quot;:…</td><td>&quot;[[&quot;code64&quot;,&quot;NQ==&quot;,{&quot;language&quot;:…</td><td>null</td><td>&quot;[[&quot;text&quot;,&quot;Po prvním provedení …</td><td>0</td><td>69.731</td><td>10449.5</td><td>&quot;2024-07-26 03:19:37&quot;</td><td>2154</td><td>&quot;2017-11-22 17:56:31&quot;</td><td>&quot;2019-07-16 15:26:11&quot;</td><td>&quot;0000-00-00 00:00:00&quot;</td><td>0</td><td>1</td></tr></tbody></table></div>"
      ],
      "text/plain": [
       "shape: (5, 19)\n",
       "┌─────┬─────┬───────────────┬─────────┬───┬───────────────┬───────────────┬──────────────┬─────────┐\n",
       "│ id  ┆ rs  ┆ difficultyRan ┆ cluster ┆ … ┆ lastUpdate    ┆ masterUpdated ┆ checkTransla ┆ visible │\n",
       "│ --- ┆ --- ┆ k             ┆ ---     ┆   ┆ ---           ┆ ---           ┆ te           ┆ ---     │\n",
       "│ i64 ┆ i64 ┆ ---           ┆ i64     ┆   ┆ str           ┆ str           ┆ ---          ┆ i64     │\n",
       "│     ┆     ┆ i64           ┆         ┆   ┆               ┆               ┆ i64          ┆         │\n",
       "╞═════╪═════╪═══════════════╪═════════╪═══╪═══════════════╪═══════════════╪══════════════╪═════════╡\n",
       "│ 1   ┆ 64  ┆ 1             ┆ 2       ┆ … ┆ 2017-11-22    ┆ 0000-00-00    ┆ 0            ┆ 1       │\n",
       "│     ┆     ┆               ┆         ┆   ┆ 17:56:31      ┆ 00:00:00      ┆              ┆         │\n",
       "│ 2   ┆ 64  ┆ 1             ┆ 2       ┆ … ┆ 2017-11-22    ┆ 0000-00-00    ┆ 0            ┆ 1       │\n",
       "│     ┆     ┆               ┆         ┆   ┆ 17:56:31      ┆ 00:00:00      ┆              ┆         │\n",
       "│ 3   ┆ 64  ┆ 1             ┆ 2       ┆ … ┆ 2017-11-22    ┆ 0000-00-00    ┆ 0            ┆ 1       │\n",
       "│     ┆     ┆               ┆         ┆   ┆ 17:56:31      ┆ 00:00:00      ┆              ┆         │\n",
       "│ 4   ┆ 64  ┆ 1             ┆ 2       ┆ … ┆ 2017-11-22    ┆ 0000-00-00    ┆ 0            ┆ 1       │\n",
       "│     ┆     ┆               ┆         ┆   ┆ 17:56:31      ┆ 00:00:00      ┆              ┆         │\n",
       "│ 5   ┆ 64  ┆ 2             ┆ 2       ┆ … ┆ 2019-07-16    ┆ 0000-00-00    ┆ 0            ┆ 1       │\n",
       "│     ┆     ┆               ┆         ┆   ┆ 15:26:11      ┆ 00:00:00      ┆              ┆         │\n",
       "└─────┴─────┴───────────────┴─────────┴───┴───────────────┴───────────────┴──────────────┴─────────┘"
      ]
     },
     "execution_count": 20,
     "metadata": {},
     "output_type": "execute_result"
    }
   ],
   "source": [
    "data_dir = Path(\"data\")\n",
    "questions_csv_path = data_dir / \"umimeprogramovatcz-system_binary_choice_data.csv\"\n",
    "\n",
    "# load questions\n",
    "questions_df = pl.read_csv(questions_csv_path, separator=\";\")\n",
    "# load resource sets\n",
    "resource_set_df = pl.read_csv(\n",
    "    data_dir / \"umimeprogramovatcz-system_resource_set.csv\",\n",
    "    has_header=True,\n",
    "    separator=\";\",\n",
    ")\n",
    "\n",
    "questions_df.head()"
   ]
  },
  {
   "cell_type": "markdown",
   "metadata": {},
   "source": [
    "## 3) Strip json formatting of certain columns\n"
   ]
  },
  {
   "cell_type": "code",
   "execution_count": 21,
   "metadata": {},
   "outputs": [],
   "source": [
    "def strip_json_formatting(json_str):\n",
    "    try:\n",
    "        # Parse the JSON string to a Python object\n",
    "        parsed = json.loads(json_str)\n",
    "        # print(parsed)\n",
    "        # Extract the second element of the inner list\n",
    "        if parsed[0][0] in [\"para\", \"text\", \"textlatex\", \"latex\"]:\n",
    "            return str(parsed[0][1])\n",
    "        elif parsed[0][0] == \"code64\":\n",
    "            return \"code\"\n",
    "        elif parsed[0][0] == \"img\":\n",
    "            return \"img\"\n",
    "        elif parsed[0][0] == \"emoji\":\n",
    "            return \"emoji\"\n",
    "        return json_str\n",
    "    except:\n",
    "        # Return original if not valid JSON\n",
    "        return json_str\n"
   ]
  },
  {
   "cell_type": "code",
   "execution_count": null,
   "metadata": {},
   "outputs": [],
   "source": [
    "questions_df = questions_df.rename({\"distractor1\": \"distractor\"})\n",
    "\n",
    "\n",
    "resource_set_df = resource_set_df.with_columns(\n",
    "    pl.col(\"name\").map_elements(strip_json_formatting, return_dtype=str).cast(pl.String)\n",
    ")\n",
    "\n",
    "\n",
    "questions_df_clean = questions_df.with_columns(\n",
    "    pl.col(\"question\")\n",
    "    .map_elements(strip_json_formatting, return_dtype=str)\n",
    "    .cast(pl.String),\n",
    "    pl.col(\"correct\")\n",
    "    .map_elements(strip_json_formatting, return_dtype=str)\n",
    "    .cast(pl.String),\n",
    "    pl.col(\"distractor\")\n",
    "    .map_elements(strip_json_formatting, return_dtype=str)\n",
    "    .cast(pl.String),\n",
    ").select([\"rs\", \"question\", \"correct\", \"distractor\", \"successRate\"])\n"
   ]
  },
  {
   "cell_type": "code",
   "execution_count": 23,
   "metadata": {},
   "outputs": [
    {
     "data": {
      "text/html": [
       "<div><style>\n",
       ".dataframe > thead > tr,\n",
       ".dataframe > tbody > tr {\n",
       "  text-align: right;\n",
       "  white-space: pre-wrap;\n",
       "}\n",
       "</style>\n",
       "<small>shape: (5, 5)</small><table border=\"1\" class=\"dataframe\"><thead><tr><th>rs</th><th>question</th><th>correct</th><th>distractor</th><th>successRate</th></tr><tr><td>i64</td><td>str</td><td>str</td><td>str</td><td>f64</td></tr></thead><tbody><tr><td>64</td><td>&quot;Co vypíše program?&quot;</td><td>&quot;code&quot;</td><td>&quot;code&quot;</td><td>89.071</td></tr><tr><td>64</td><td>&quot;Co vypíše program?&quot;</td><td>&quot;code&quot;</td><td>&quot;code&quot;</td><td>86.251</td></tr><tr><td>64</td><td>&quot;Co vypíše program?&quot;</td><td>&quot;code&quot;</td><td>&quot;code&quot;</td><td>88.404</td></tr><tr><td>64</td><td>&quot;Co vypíše program?&quot;</td><td>&quot;code&quot;</td><td>&quot;code&quot;</td><td>84.608</td></tr><tr><td>64</td><td>&quot;Co vypíše program?&quot;</td><td>&quot;code&quot;</td><td>&quot;code&quot;</td><td>69.731</td></tr></tbody></table></div>"
      ],
      "text/plain": [
       "shape: (5, 5)\n",
       "┌─────┬────────────────────┬─────────┬────────────┬─────────────┐\n",
       "│ rs  ┆ question           ┆ correct ┆ distractor ┆ successRate │\n",
       "│ --- ┆ ---                ┆ ---     ┆ ---        ┆ ---         │\n",
       "│ i64 ┆ str                ┆ str     ┆ str        ┆ f64         │\n",
       "╞═════╪════════════════════╪═════════╪════════════╪═════════════╡\n",
       "│ 64  ┆ Co vypíše program? ┆ code    ┆ code       ┆ 89.071      │\n",
       "│ 64  ┆ Co vypíše program? ┆ code    ┆ code       ┆ 86.251      │\n",
       "│ 64  ┆ Co vypíše program? ┆ code    ┆ code       ┆ 88.404      │\n",
       "│ 64  ┆ Co vypíše program? ┆ code    ┆ code       ┆ 84.608      │\n",
       "│ 64  ┆ Co vypíše program? ┆ code    ┆ code       ┆ 69.731      │\n",
       "└─────┴────────────────────┴─────────┴────────────┴─────────────┘"
      ]
     },
     "execution_count": 23,
     "metadata": {},
     "output_type": "execute_result"
    }
   ],
   "source": [
    "questions_df_clean = questions_df_clean.drop_nans().drop_nulls()\n",
    "\n",
    "questions_df_clean.head()"
   ]
  },
  {
   "cell_type": "markdown",
   "metadata": {},
   "source": [
    "## 4) Obtain some simple (syntactic) features\n"
   ]
  },
  {
   "cell_type": "code",
   "execution_count": null,
   "metadata": {},
   "outputs": [
    {
     "data": {
      "text/html": [
       "<div><style>\n",
       ".dataframe > thead > tr,\n",
       ".dataframe > tbody > tr {\n",
       "  text-align: right;\n",
       "  white-space: pre-wrap;\n",
       "}\n",
       "</style>\n",
       "<small>shape: (5, 14)</small><table border=\"1\" class=\"dataframe\"><thead><tr><th>rs</th><th>question</th><th>correct</th><th>distractor</th><th>successRate</th><th>question_correct</th><th>fill_in_blank</th><th>explicit_question</th><th>colon_end</th><th>what_was_first</th><th>true_false</th><th>has_img</th><th>has_code</th><th>has_number</th></tr><tr><td>i64</td><td>str</td><td>str</td><td>str</td><td>f64</td><td>str</td><td>i8</td><td>i8</td><td>i8</td><td>i8</td><td>i8</td><td>i64</td><td>i64</td><td>i64</td></tr></thead><tbody><tr><td>64</td><td>&quot;Co znamená v Pythonu operace &#x27;…</td><td>&quot;zbytek po dělení&quot;</td><td>&quot;celočíselné dělení&quot;</td><td>76.968</td><td>&quot;Co znamená v Pythonu operace &#x27;…</td><td>0</td><td>1</td><td>0</td><td>0</td><td>0</td><td>0</td><td>0</td><td>0</td></tr><tr><td>64</td><td>&quot;Co znamená v Pythonu operace &#x27;…</td><td>&quot;dělení&quot;</td><td>&quot;zbytek po dělení&quot;</td><td>76.394</td><td>&quot;Co znamená v Pythonu operace &#x27;…</td><td>0</td><td>1</td><td>0</td><td>0</td><td>0</td><td>0</td><td>0</td><td>0</td></tr><tr><td>64</td><td>&quot;Co znamená v Pythonu operace &#x27;…</td><td>&quot;celočíselné dělení&quot;</td><td>&quot;zbytek po dělení&quot;</td><td>74.399</td><td>&quot;Co znamená v Pythonu operace &#x27;…</td><td>0</td><td>1</td><td>0</td><td>0</td><td>0</td><td>0</td><td>0</td><td>0</td></tr><tr><td>64</td><td>&quot;Co znamená v Pythonu operace &#x27;…</td><td>&quot;umocňování&quot;</td><td>&quot;násobení&quot;</td><td>81.184</td><td>&quot;Co znamená v Pythonu operace &#x27;…</td><td>0</td><td>1</td><td>0</td><td>0</td><td>0</td><td>0</td><td>0</td><td>0</td></tr><tr><td>68</td><td>&quot;Co udělá program?&quot;</td><td>&quot;Zacyklí se a nikdy neskončí&quot;</td><td>&quot;Vypíše součet čísel od 1 do 5&quot;</td><td>67.595</td><td>&quot;Co udělá program? Zacyklí se a…</td><td>0</td><td>1</td><td>0</td><td>0</td><td>0</td><td>0</td><td>0</td><td>1</td></tr></tbody></table></div>"
      ],
      "text/plain": [
       "shape: (5, 14)\n",
       "┌─────┬─────────────┬─────────────┬─────────────┬───┬────────────┬─────────┬──────────┬────────────┐\n",
       "│ rs  ┆ question    ┆ correct     ┆ distractor  ┆ … ┆ true_false ┆ has_img ┆ has_code ┆ has_number │\n",
       "│ --- ┆ ---         ┆ ---         ┆ ---         ┆   ┆ ---        ┆ ---     ┆ ---      ┆ ---        │\n",
       "│ i64 ┆ str         ┆ str         ┆ str         ┆   ┆ i8         ┆ i64     ┆ i64      ┆ i64        │\n",
       "╞═════╪═════════════╪═════════════╪═════════════╪═══╪════════════╪═════════╪══════════╪════════════╡\n",
       "│ 64  ┆ Co znamená  ┆ zbytek po   ┆ celočíselné ┆ … ┆ 0          ┆ 0       ┆ 0        ┆ 0          │\n",
       "│     ┆ v Pythonu   ┆ dělení      ┆ dělení      ┆   ┆            ┆         ┆          ┆            │\n",
       "│     ┆ operace '…  ┆             ┆             ┆   ┆            ┆         ┆          ┆            │\n",
       "│ 64  ┆ Co znamená  ┆ dělení      ┆ zbytek po   ┆ … ┆ 0          ┆ 0       ┆ 0        ┆ 0          │\n",
       "│     ┆ v Pythonu   ┆             ┆ dělení      ┆   ┆            ┆         ┆          ┆            │\n",
       "│     ┆ operace '…  ┆             ┆             ┆   ┆            ┆         ┆          ┆            │\n",
       "│ 64  ┆ Co znamená  ┆ celočíselné ┆ zbytek po   ┆ … ┆ 0          ┆ 0       ┆ 0        ┆ 0          │\n",
       "│     ┆ v Pythonu   ┆ dělení      ┆ dělení      ┆   ┆            ┆         ┆          ┆            │\n",
       "│     ┆ operace '…  ┆             ┆             ┆   ┆            ┆         ┆          ┆            │\n",
       "│ 64  ┆ Co znamená  ┆ umocňování  ┆ násobení    ┆ … ┆ 0          ┆ 0       ┆ 0        ┆ 0          │\n",
       "│     ┆ v Pythonu   ┆             ┆             ┆   ┆            ┆         ┆          ┆            │\n",
       "│     ┆ operace '…  ┆             ┆             ┆   ┆            ┆         ┆          ┆            │\n",
       "│ 68  ┆ Co udělá    ┆ Zacyklí se  ┆ Vypíše      ┆ … ┆ 0          ┆ 0       ┆ 0        ┆ 1          │\n",
       "│     ┆ program?    ┆ a nikdy     ┆ součet      ┆   ┆            ┆         ┆          ┆            │\n",
       "│     ┆             ┆ neskončí    ┆ čísel od 1  ┆   ┆            ┆         ┆          ┆            │\n",
       "│     ┆             ┆             ┆ do 5        ┆   ┆            ┆         ┆          ┆            │\n",
       "└─────┴─────────────┴─────────────┴─────────────┴───┴────────────┴─────────┴──────────┴────────────┘"
      ]
     },
     "execution_count": 24,
     "metadata": {},
     "output_type": "execute_result"
    }
   ],
   "source": [
    "def is_fill_in_blank(field: str) -> int:\n",
    "    return 1 if \"_\" in field else 0\n",
    "\n",
    "\n",
    "def is_explicit_question(question: str | None) -> int:\n",
    "    if not question:\n",
    "        return 0\n",
    "    return 1 if question[-1] == \"?\" else 0\n",
    "\n",
    "\n",
    "def is_true_false(correct: str, distractor: str) -> int:\n",
    "    return ((correct == \"pravda\") | (distractor == \"pravda\")).cast(pl.Int8)\n",
    "\n",
    "\n",
    "def contains_img(question: str, correct: str, distractor: str) -> int:\n",
    "    text = question + \" \" + correct + \" \" + distractor\n",
    "    return 1 if \"img\" in text else 0\n",
    "\n",
    "\n",
    "def contains_code(question: str, correct: str, distractor: str) -> int:\n",
    "    text = question + \" \" + correct + \" \" + distractor\n",
    "    return 1 if \"code64\" in text else 0\n",
    "\n",
    "\n",
    "def ends_with_colon(question: str | None) -> int:\n",
    "    if not question:\n",
    "        return 0\n",
    "    return 1 if question[-1] == \":\" else 0\n",
    "\n",
    "\n",
    "def what_was_first(question: str) -> int:\n",
    "    return 1 if question.lower() == \"co bylo dříve?\" else 0\n",
    "\n",
    "\n",
    "def contains_number(question: str, correct: str, distractor: str) -> int:\n",
    "    text = question + \" \" + correct + \" \" + distractor\n",
    "    numeric_pattern = r\"\\b(\\d+)\\b\"\n",
    "    return 1 if re.search(numeric_pattern, text.lower()) else 0\n",
    "\n",
    "\n",
    "questions_df_clean = questions_df_clean.with_columns(\n",
    "    question_correct=pl.col(\"question\") + \" \" + pl.col(\"correct\"),\n",
    "    fill_in_blank=pl.col(\"question\").map_elements(\n",
    "        is_fill_in_blank, return_dtype=pl.Int8\n",
    "    ),\n",
    "    explicit_question=pl.col(\"question\").map_elements(\n",
    "        is_explicit_question, return_dtype=pl.Int8\n",
    "    ),\n",
    "    colon_end=pl.col(\"question\").map_elements(ends_with_colon, return_dtype=pl.Int8),\n",
    "    what_was_first=pl.col(\"question\").map_elements(\n",
    "        what_was_first, return_dtype=pl.Int8\n",
    "    ),\n",
    "    true_false=pl.struct([\"correct\", \"distractor\"]).map_batches(\n",
    "        lambda x: is_true_false(\n",
    "            x.struct.field(\"correct\"), x.struct.field(\"distractor\")\n",
    "        ),\n",
    "        return_dtype=pl.Int8,\n",
    "    ),\n",
    ")\n",
    "\n",
    "has_number = (\n",
    "    questions_df_clean.map_rows(\n",
    "        lambda t: (contains_number(t[1], t[2], t[3])),\n",
    "        return_dtype=pl.Int8,\n",
    "    )\n",
    "    .to_series()\n",
    "    .alias(\"has_number\")\n",
    ")\n",
    "has_img = (\n",
    "    questions_df_clean.map_rows(\n",
    "        lambda t: (contains_img(t[1], t[2], t[3])), return_dtype=pl.Int8\n",
    "    )\n",
    "    .to_series()\n",
    "    .alias(\"has_img\")\n",
    ")\n",
    "has_code = (\n",
    "    questions_df_clean.map_rows(\n",
    "        lambda t: (contains_code(t[1], t[2], t[3])), return_dtype=pl.Int8\n",
    "    )\n",
    "    .to_series()\n",
    "    .alias(\"has_code\")\n",
    ")\n",
    "\n",
    "questions_df_clean.insert_column(len(questions_df_clean.columns), has_img)\n",
    "questions_df_clean.insert_column(len(questions_df_clean.columns), has_code)\n",
    "questions_df_clean.insert_column(len(questions_df_clean.columns), has_number)\n",
    "\n",
    "questions_df_clean = questions_df_clean.filter(\n",
    "    ~pl.col(\"question_correct\").str.contains_any([\"code\", \"img\", \"emoji\"])\n",
    ")\n",
    "\n",
    "\n",
    "questions_df_clean.head()"
   ]
  },
  {
   "cell_type": "markdown",
   "metadata": {},
   "source": [
    "## 5) Filter those resource set having enough questions\n",
    "\n",
    "I chose a cutoff of 60 so that the Bertopic pipeline has enough documents to work with\n"
   ]
  },
  {
   "cell_type": "code",
   "execution_count": 27,
   "metadata": {},
   "outputs": [
    {
     "data": {
      "text/html": [
       "<div><style>\n",
       ".dataframe > thead > tr,\n",
       ".dataframe > tbody > tr {\n",
       "  text-align: right;\n",
       "  white-space: pre-wrap;\n",
       "}\n",
       "</style>\n",
       "<small>shape: (5, 13)</small><table border=\"1\" class=\"dataframe\"><thead><tr><th>rs</th><th>question</th><th>correct</th><th>distractor</th><th>successRate</th><th>question_correct</th><th>fill_in_blank</th><th>explicit_question</th><th>colon_end</th><th>what_was_first</th><th>true_false</th><th>has_img</th><th>has_code</th></tr><tr><td>i64</td><td>str</td><td>str</td><td>str</td><td>f64</td><td>str</td><td>i8</td><td>i8</td><td>i8</td><td>i8</td><td>i8</td><td>i64</td><td>i64</td></tr></thead><tbody><tr><td>65</td><td>&quot;Jak v Pythonu zapisujeme logic…</td><td>&quot;and&quot;</td><td>&quot;&amp;&amp;&quot;</td><td>83.878</td><td>&quot;Jak v Pythonu zapisujeme logic…</td><td>0</td><td>1</td><td>0</td><td>0</td><td>0</td><td>0</td><td>0</td></tr><tr><td>65</td><td>&quot;Jak v Pythonu zapisujeme logic…</td><td>&quot;and&quot;</td><td>&quot;or&quot;</td><td>81.737</td><td>&quot;Jak v Pythonu zapisujeme logic…</td><td>0</td><td>1</td><td>0</td><td>0</td><td>0</td><td>0</td><td>0</td></tr><tr><td>65</td><td>&quot;Jak v Pythonu zapisujeme logic…</td><td>&quot;or&quot;</td><td>&quot;||&quot;</td><td>84.746</td><td>&quot;Jak v Pythonu zapisujeme logic…</td><td>0</td><td>1</td><td>0</td><td>0</td><td>0</td><td>0</td><td>0</td></tr><tr><td>65</td><td>&quot;Jak v Pythonu zapisujeme logic…</td><td>&quot;not&quot;</td><td>&quot;!&quot;</td><td>73.499</td><td>&quot;Jak v Pythonu zapisujeme logic…</td><td>0</td><td>1</td><td>0</td><td>0</td><td>0</td><td>0</td><td>0</td></tr><tr><td>65</td><td>&quot;Jak v Pythonu zapisujeme test …</td><td>&quot;x != y&quot;</td><td>&quot;x =!= y&quot;</td><td>74.795</td><td>&quot;Jak v Pythonu zapisujeme test …</td><td>0</td><td>1</td><td>0</td><td>0</td><td>0</td><td>0</td><td>0</td></tr></tbody></table></div>"
      ],
      "text/plain": [
       "shape: (5, 13)\n",
       "┌─────┬───────────────┬─────────┬────────────┬───┬───────────────┬────────────┬─────────┬──────────┐\n",
       "│ rs  ┆ question      ┆ correct ┆ distractor ┆ … ┆ what_was_firs ┆ true_false ┆ has_img ┆ has_code │\n",
       "│ --- ┆ ---           ┆ ---     ┆ ---        ┆   ┆ t             ┆ ---        ┆ ---     ┆ ---      │\n",
       "│ i64 ┆ str           ┆ str     ┆ str        ┆   ┆ ---           ┆ i8         ┆ i64     ┆ i64      │\n",
       "│     ┆               ┆         ┆            ┆   ┆ i8            ┆            ┆         ┆          │\n",
       "╞═════╪═══════════════╪═════════╪════════════╪═══╪═══════════════╪════════════╪═════════╪══════════╡\n",
       "│ 65  ┆ Jak v Pythonu ┆ and     ┆ &&         ┆ … ┆ 0             ┆ 0          ┆ 0       ┆ 0        │\n",
       "│     ┆ zapisujeme    ┆         ┆            ┆   ┆               ┆            ┆         ┆          │\n",
       "│     ┆ logic…        ┆         ┆            ┆   ┆               ┆            ┆         ┆          │\n",
       "│ 65  ┆ Jak v Pythonu ┆ and     ┆ or         ┆ … ┆ 0             ┆ 0          ┆ 0       ┆ 0        │\n",
       "│     ┆ zapisujeme    ┆         ┆            ┆   ┆               ┆            ┆         ┆          │\n",
       "│     ┆ logic…        ┆         ┆            ┆   ┆               ┆            ┆         ┆          │\n",
       "│ 65  ┆ Jak v Pythonu ┆ or      ┆ ||         ┆ … ┆ 0             ┆ 0          ┆ 0       ┆ 0        │\n",
       "│     ┆ zapisujeme    ┆         ┆            ┆   ┆               ┆            ┆         ┆          │\n",
       "│     ┆ logic…        ┆         ┆            ┆   ┆               ┆            ┆         ┆          │\n",
       "│ 65  ┆ Jak v Pythonu ┆ not     ┆ !          ┆ … ┆ 0             ┆ 0          ┆ 0       ┆ 0        │\n",
       "│     ┆ zapisujeme    ┆         ┆            ┆   ┆               ┆            ┆         ┆          │\n",
       "│     ┆ logic…        ┆         ┆            ┆   ┆               ┆            ┆         ┆          │\n",
       "│ 65  ┆ Jak v Pythonu ┆ x != y  ┆ x =!= y    ┆ … ┆ 0             ┆ 0          ┆ 0       ┆ 0        │\n",
       "│     ┆ zapisujeme    ┆         ┆            ┆   ┆               ┆            ┆         ┆          │\n",
       "│     ┆ test …        ┆         ┆            ┆   ┆               ┆            ┆         ┆          │\n",
       "└─────┴───────────────┴─────────┴────────────┴───┴───────────────┴────────────┴─────────┴──────────┘"
      ]
     },
     "execution_count": 27,
     "metadata": {},
     "output_type": "execute_result"
    }
   ],
   "source": [
    "rs_count_enough = (\n",
    "    questions_df_clean.group_by(\"rs\")\n",
    "    .len()\n",
    "    .filter(pl.col(\"len\") >= 60)\n",
    "    .rename({\"rs\": \"id\"})\n",
    ")\n",
    "resource_set_df_filtered = resource_set_df.join(rs_count_enough, on=\"id\").sort(\n",
    "    \"len\", descending=True\n",
    ")\n",
    "\n",
    "questions_df_clean_filtered = questions_df_clean.join(\n",
    "    resource_set_df_filtered, left_on=\"rs\", right_on=\"id\"\n",
    ")\n",
    "\n",
    "questions_df_clean_filtered = questions_df_clean_filtered.select(pl.nth(range(13)))\n",
    "\n",
    "questions_df_clean_filtered.head()"
   ]
  },
  {
   "cell_type": "markdown",
   "metadata": {},
   "source": [
    "## 6) Save cleaned data frame\n"
   ]
  },
  {
   "cell_type": "code",
   "execution_count": null,
   "metadata": {},
   "outputs": [],
   "source": [
    "questions_df_clean_filtered.write_csv(data_dir / \"questions_cleaned_filtered.csv\")"
   ]
  },
  {
   "cell_type": "code",
   "execution_count": null,
   "metadata": {},
   "outputs": [],
   "source": [
    "rs_dicts = resource_set_df_filtered.select(\"id\", \"shortcut\").to_dicts()\n",
    "rs_dict = {\n",
    "    rs_dict[\"id\"]: \" \".join(rs_dict[\"shortcut\"].split(\"-\")[1:]) for rs_dict in rs_dicts\n",
    "}"
   ]
  },
  {
   "cell_type": "code",
   "execution_count": null,
   "metadata": {},
   "outputs": [],
   "source": [
    "import pickle\n",
    "\n",
    "with open(\"rs_filtered.pickle\", \"wb\") as handle:\n",
    "    pickle.dump(rs_dict, handle, protocol=pickle.HIGHEST_PROTOCOL)"
   ]
  },
  {
   "cell_type": "code",
   "execution_count": null,
   "metadata": {},
   "outputs": [
    {
     "data": {
      "text/plain": [
       "{144: 'tabulky porozumeni zaklady',\n",
       " 291: 'neuronove site',\n",
       " 63: 'negace tvrzeni',\n",
       " 184: 'grafy nejkratsi cesty',\n",
       " 57: 'spolecna vlastnost slova',\n",
       " 137: 'vyhledavani na internetu',\n",
       " 183: 'grafy abstrakce',\n",
       " 146: 'sloupcove grafy',\n",
       " 311: 'internet web',\n",
       " 132: 'historie pocitacu',\n",
       " 103: 'prezentace',\n",
       " 105: 'vstupni vystupni zarizeni',\n",
       " 107: 'hardware pamet',\n",
       " 114: 'viry spam socialni inzenyrstvi',\n",
       " 102: 'e mail',\n",
       " 152: 'interpunkce specialni znaky',\n",
       " 147: 'kolacove grafy',\n",
       " 323: 'ovoce zelenina urcovani pravdivosti',\n",
       " 87: 'tabulky rozsahy',\n",
       " 289: 'omezujici podminky',\n",
       " 108: 'tabulky bunky radky sloupce',\n",
       " 109: 'tabulky pocetni operace',\n",
       " 82: 'tabulky funkce',\n",
       " 286: 'prohledavani stavoveho prostoru',\n",
       " 212: 'razeni dat beztabulek',\n",
       " 213: 'razeni dat tabulky',\n",
       " 284: 'strojove uceni rozhodovaci stromy',\n",
       " 115: 'hesla autentizace',\n",
       " 246: 'ziskavani dat',\n",
       " 119: 'site obecne',\n",
       " 283: 'linearni regrese',\n",
       " 305: 'algoritmicke mysleni pojmenovani promennych',\n",
       " 306: 'histogramy',\n",
       " 326: 'ovoce zelenina implikace ekvivalence',\n",
       " 106: 'procesor architektura',\n",
       " 290: 'optimalizace',\n",
       " 131: 'digitalni identita',\n",
       " 62: 'bajna logika urcovani pravdivosti',\n",
       " 130: 'operacni systemy',\n",
       " 193: 'prenos dat',\n",
       " 70: 'prehled datovych typu',\n",
       " 148: 'spojnicove grafy',\n",
       " 151: 'textovy procesor',\n",
       " 322: 'priserky urcovani pravdivosti',\n",
       " 191: 'informace velikost dat',\n",
       " 59: 'slovni vztahy',\n",
       " 121: 'site hardware',\n",
       " 126: 'software vlastnosti',\n",
       " 128: 'typy pocitacu',\n",
       " 245: 'informace slovne cislem',\n",
       " 88: 'tabulky odkazy',\n",
       " 319: 'vymezeni her',\n",
       " 292: 'vymezeni umele inteligence',\n",
       " 272: 'strojove uceni zaklady',\n",
       " 226: 'umela inteligence pojmy',\n",
       " 89: 'tabulky podminky',\n",
       " 133: 'typy souboru',\n",
       " 143: 'binarni cisla zaporna desetinna',\n",
       " 282: 'strojove uceni pravdepodobnost',\n",
       " 127: 'software typy aplikaci',\n",
       " 118: 'chovani na internetu',\n",
       " 75: 'kodovani textu',\n",
       " 274: 'strojove uceni metody',\n",
       " 120: 'site protokoly',\n",
       " 65: 'logicke vyrazy v pythonu',\n",
       " 69: 'funkce v pythonu',\n",
       " 159: 'multimedia zvuk',\n",
       " 224: 'historie umele inteligence',\n",
       " 279: 'zpracovani prirozeneho jazyka',\n",
       " 302: 'plosne grafy',\n",
       " 101: 'autorstvi licence',\n",
       " 225: 'umela inteligence realita fikce',\n",
       " 140: 'zdroje citace',\n",
       " 251: 'data zkresleni',\n",
       " 227: 'umela inteligence aplikace schopnosti',\n",
       " 277: 'strojove uceni pojmy',\n",
       " 280: 'robotika',\n",
       " 248: 'format dat',\n",
       " 293: 'umela inteligence ulohy metody',\n",
       " 332: 'logicke dusledky',\n",
       " 333: 'logicke odvozovani s vyrazy',\n",
       " 80: 'zaklady html',\n",
       " 104: 'ergonomie',\n",
       " 77: 'binarni cisla',\n",
       " 207: 'bitmapova grafika',\n",
       " 208: 'vektorova grafika',\n",
       " 124: 'dezinformace hoaxy manipulace',\n",
       " 320: 'analyza her',\n",
       " 275: 'strojove uceni vyhodnoceni',\n",
       " 222: 'casti grafu',\n",
       " 298: 'algoritmicke mysleni vstup vystup',\n",
       " 313: 'hardware zaklady',\n",
       " 314: 'mobilni telefony zaklady bezpecnost',\n",
       " 229: 'kodovani informaci textem jinak'}"
      ]
     },
     "execution_count": 43,
     "metadata": {},
     "output_type": "execute_result"
    }
   ],
   "source": [
    "rs_dict"
   ]
  }
 ],
 "metadata": {
  "kernelspec": {
   "display_name": ".venv",
   "language": "python",
   "name": "python3"
  },
  "language_info": {
   "codemirror_mode": {
    "name": "ipython",
    "version": 3
   },
   "file_extension": ".py",
   "mimetype": "text/x-python",
   "name": "python",
   "nbconvert_exporter": "python",
   "pygments_lexer": "ipython3",
   "version": "3.12.7"
  }
 },
 "nbformat": 4,
 "nbformat_minor": 2
}
